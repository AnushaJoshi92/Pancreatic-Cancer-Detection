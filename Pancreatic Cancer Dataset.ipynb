{
 "cells": [
  {
   "cell_type": "code",
   "execution_count": null,
   "metadata": {},
   "outputs": [],
   "source": [
    "import pandas as pd\n",
    "import numpy as np\n",
    "from sklearn.model_selection import train_test_split\n",
    "from matplotlib import pyplot\n",
    "import matplotlib.pyplot as plt\n",
    "import seaborn as sns\n",
    "from sklearn import svm\n",
    "from sklearn.model_selection import KFold\n",
    "from sklearn.linear_model import LogisticRegression\n",
    "from sklearn.tree import DecisionTreeClassifier\n",
    "from sklearn.metrics import accuracy_score\n",
    "from sklearn.svm import SVC\n",
    "from sklearn.preprocessing import MinMaxScaler\n",
    "import statsmodels.api as sm\n",
    "from sklearn.model_selection import cross_val_score\n",
    "from sklearn.metrics import plot_confusion_matrix\n",
    "from sklearn.tree import plot_tree"
   ]
  },
  {
   "cell_type": "code",
   "execution_count": null,
   "metadata": {},
   "outputs": [],
   "source": [
    "#Load data\n",
    "data= pd.read_excel(\"C:/Users/HP/Desktop/Data Science Projects-Anusha/Pancreatic Cancer Data Set/Pancreatic Cancer detection .xlsx\")\n",
    "data"
   ]
  },
  {
   "cell_type": "code",
   "execution_count": null,
   "metadata": {},
   "outputs": [],
   "source": [
    "#Removing unnecessary columns\n",
    "data=data.drop(['sample_id','patient_cohort','sample_origin','stage','benign_sample_diagnosis','plasma_CA19_9','REG1A'],axis=1)\n",
    "data"
   ]
  },
  {
   "cell_type": "code",
   "execution_count": null,
   "metadata": {},
   "outputs": [],
   "source": [
    "#Create dummy values for column 'sex' since it has categorical data\n",
    "sex_dummy= pd.get_dummies(data['sex'])\n",
    "data= pd.concat([data,sex_dummy],axis=1)\n",
    "data.drop(['sex'],inplace=True,axis=1)\n",
    "data"
   ]
  },
  {
   "cell_type": "code",
   "execution_count": null,
   "metadata": {},
   "outputs": [],
   "source": [
    "#Moving the predictor label to the last column\n",
    "newcols=['age','creatinine','LYVE1','REG1B','TFF1','F','M','diagnosis']\n",
    "data= data.reindex(columns=newcols)\n",
    "data"
   ]
  },
  {
   "cell_type": "code",
   "execution_count": null,
   "metadata": {},
   "outputs": [],
   "source": [
    "#Checking for missing values\n",
    "np.any(np.isnan(data))"
   ]
  },
  {
   "cell_type": "code",
   "execution_count": null,
   "metadata": {},
   "outputs": [],
   "source": [
    "#Normalize the data (only data with continuous values)\n",
    "scaler= MinMaxScaler()\n",
    "normxcols= ['age','creatinine','LYVE1','REG1B','TFF1']\n",
    "normdata= pd.DataFrame(scaler.fit_transform(data.iloc[:,:-3]),columns= normxcols,index= data.index)\n",
    "normdata.rename(columns={'age':'Age','creatinine':'Creatinine','LYVE1':'Lyve1','REG1B':'Reg1b','TFF1':'Tff1'},inplace=True)\n",
    "normdata.round(3)"
   ]
  },
  {
   "cell_type": "code",
   "execution_count": null,
   "metadata": {},
   "outputs": [],
   "source": [
    "normdata1= pd.concat([normdata, data], axis=1, join= \"inner\")\n",
    "normdata2= normdata1.drop(columns= normxcols)\n",
    "normdata2\n",
    "np.any(np.isnan(normdata2))"
   ]
  },
  {
   "cell_type": "code",
   "execution_count": null,
   "metadata": {},
   "outputs": [],
   "source": [
    "#Data Visualization\n",
    "%matplotlib notebook"
   ]
  },
  {
   "cell_type": "code",
   "execution_count": null,
   "metadata": {},
   "outputs": [],
   "source": [
    "normdata2.columns"
   ]
  },
  {
   "cell_type": "code",
   "execution_count": null,
   "metadata": {},
   "outputs": [],
   "source": [
    "plt.figure(figsize= (10,10))\n",
    "features= ['Age', 'Creatinine', 'Lyve1', 'Reg1b', 'Tff1', 'F', 'M', 'diagnosis']\n",
    "for i in enumerate(features):\n",
    "    plt.subplot(4,2,i[0]+1)\n",
    "    sns.countplot(i[1], hue= 'diagnosis', data= normdata2)\n",
    "    "
   ]
  },
  {
   "cell_type": "code",
   "execution_count": null,
   "metadata": {},
   "outputs": [],
   "source": [
    "#Model Comparison using K-Fold Cross validation\n",
    "k= 10\n",
    "kf = KFold(n_splits=k, random_state=None)\n",
    "model = LogisticRegression(solver= 'liblinear',C=20)\n",
    "model2 = DecisionTreeClassifier()\n",
    "model3 = svm.SVC(kernel='linear')\n",
    "\n",
    "acc_score1 = []\n",
    "acc_score2 = []\n",
    "acc_score3 = []\n",
    "for train_index , test_index in kf.split(X):\n",
    "    X_train , X_test = X.iloc[train_index,:], X.iloc[test_index,:]\n",
    "    y_train , y_test = y[train_index], y[test_index]\n",
    "\n",
    "    model.fit(X_train, y_train)\n",
    "    model2.fit(X_train, y_train)\n",
    "    model3.fit(X_train, y_train)\n",
    "    \n",
    "    pred_values = model.predict(X_test)\n",
    "    pred_values2= model2.predict(X_test)\n",
    "    pred_values2= model3.predict(X_test)\n",
    "     \n",
    "    acc = accuracy_score(pred_values , y_test)\n",
    "    acc_score1.append(acc)\n",
    "    acc2 = accuracy_score(pred_values2 , y_test)\n",
    "    acc_score2.append(acc2)\n",
    "    acc3 = accuracy_score(pred_values2 , y_test)\n",
    "    acc_score3.append(acc3)\n",
    "     \n",
    "avg_acc_score1= sum(acc_score1)/k\n",
    "avg_acc_score2= sum(acc_score2)/k\n",
    "avg_acc_score3= sum(acc_score3)/k\n",
    " \n",
    "print('accuracy of each fold - {}'.format(acc_score1))\n",
    "print('Avg accuracy : {}'.format(avg_acc_score1))\n",
    "print('accuracy of each fold - {}'.format(acc_score2))\n",
    "print('Avg accuracy : {}'.format(avg_acc_score2))\n",
    "print('accuracy of each fold - {}'.format(acc_score3))\n",
    "print('Avg accuracy : {}'.format(avg_acc_score3))"
   ]
  },
  {
   "cell_type": "code",
   "execution_count": null,
   "metadata": {},
   "outputs": [],
   "source": [
    "X = normdata2.iloc[:,:-1]\n",
    "y = normdata2.iloc[:,-1]"
   ]
  },
  {
   "cell_type": "code",
   "execution_count": null,
   "metadata": {},
   "outputs": [],
   "source": [
    "X_train, X_test, y_train, y_test= train_test_split(X,y,test_size=0.4,random_state=None)\n",
    "X_train, X_test, y_train, y_test"
   ]
  },
  {
   "cell_type": "code",
   "execution_count": null,
   "metadata": {},
   "outputs": [],
   "source": [
    "reg= LogisticRegression(C=20)\n",
    "reg.fit(X_train, y_train)"
   ]
  },
  {
   "cell_type": "code",
   "execution_count": null,
   "metadata": {},
   "outputs": [],
   "source": [
    "#Accuracy= 80%\n",
    "plot_confusion_matrix(reg,X_test,y_test,display_labels=[\"Does not have HD\",\"Has HD\"])"
   ]
  }
 ],
 "metadata": {
  "kernelspec": {
   "display_name": "Python 3",
   "language": "python",
   "name": "python3"
  },
  "language_info": {
   "codemirror_mode": {
    "name": "ipython",
    "version": 3
   },
   "file_extension": ".py",
   "mimetype": "text/x-python",
   "name": "python",
   "nbconvert_exporter": "python",
   "pygments_lexer": "ipython3",
   "version": "3.8.5"
  }
 },
 "nbformat": 4,
 "nbformat_minor": 4
}
